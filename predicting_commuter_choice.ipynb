{
 "cells": [
  {
   "cell_type": "code",
   "execution_count": 75,
   "metadata": {},
   "outputs": [
    {
     "name": "stdout",
     "output_type": "stream",
     "text": [
      "     cartime  carcost  traintime  traincost choice\n",
      "0         70       50         64         39  TRAIN\n",
      "1         50      230         60         32  TRAIN\n",
      "2         50       70         58         40    CAR\n",
      "3         60      108         93         62    CAR\n",
      "4         70       60         68         26  TRAIN\n",
      "5         20       32         72         65    CAR\n",
      "6         40       30         60         37  TRAIN\n",
      "7         15        8         22         20    CAR\n",
      "8         60       60         83         31  TRAIN\n",
      "9         29       20         40         17    CAR\n",
      "10        36       30         65         70    CAR\n",
      "11        50       30        125         60    CAR\n",
      "12        63       35        145         60    CAR\n",
      "13        20       30         48         25    CAR\n",
      "14        60       40         85         45    CAR\n",
      "15        30       20         60         35  TRAIN\n",
      "16        47       60         79         26  TRAIN\n",
      "17        60       72         50         26  TRAIN\n",
      "18        55       40         43         26  TRAIN\n",
      "19        35       80         51         29  TRAIN\n",
      "20        15       30         25         20  TRAIN\n",
      "21        55       50         70         27  TRAIN\n",
      "22        50       50         65         26  TRAIN\n",
      "23        39       25         50         55    CAR\n",
      "24        17       20         78         35    CAR\n",
      "25        35       56         87         40    CAR\n",
      "26        65       55         90         26  TRAIN\n",
      "27        38       40         74         23  TRAIN\n",
      "28        15       15         40         34    CAR\n",
      "29        65      130         74         30  TRAIN\n",
      "..       ...      ...        ...        ...    ...\n",
      "303       65       60         65         31  TRAIN\n",
      "304       40       50         91         71    CAR\n",
      "305       50       64         70         53    CAR\n",
      "306       75      154         60         34  TRAIN\n",
      "307       30       48         60         47    CAR\n",
      "308       60      180         64         33  TRAIN\n",
      "309       60       80         75         36  TRAIN\n",
      "310       68       30         65         26  TRAIN\n",
      "311       65       88         76         41  TRAIN\n",
      "312       65       60         73         26  TRAIN\n",
      "313       37       40         57         26  TRAIN\n",
      "314       45       35         65         35  TRAIN\n",
      "315       65      137         73         33  TRAIN\n",
      "316       60      145         54         36  TRAIN\n",
      "317       55      140         74         36  TRAIN\n",
      "318       60      100         50         36  TRAIN\n",
      "319       65       50        100         50    CAR\n",
      "320       50      140         85         63    CAR\n",
      "321       75       72         63         30  TRAIN\n",
      "322       35       30         48         29  TRAIN\n",
      "323       15       24         28         25    CAR\n",
      "324       53       56         42         26  TRAIN\n",
      "325       25       60         65         31    CAR\n",
      "326       45       54         67         33    CAR\n",
      "327       25       28         48         39    CAR\n",
      "328       27       50         52         40    CAR\n",
      "329       25       25         63         80    CAR\n",
      "330       50       50         80         50    CAR\n",
      "331       25       25         39         20    CAR\n",
      "332       35       64         95         40    CAR\n",
      "\n",
      "[333 rows x 5 columns]\n"
     ]
    }
   ],
   "source": [
    "# This code is based on the sample code given in Thomas Miller's book 'Marketing Data Science', Chapter 2\n",
    "\n",
    "#import packages:\n",
    "from __future__ import division, print_function\n",
    "import numpy as np\n",
    "import pandas as pd\n",
    "import statsmodels.api as sm\n",
    "from matplotlib import pyplot as plt\n",
    "import matplotlib\n",
    "import seaborn as sns\n",
    "\n",
    "#read data form csv file:\n",
    "syd_data= pd.read_csv(\"D:\\CaviConsulting\\MarketResearch\\Market Data science\\chapter2\\MDS_Chapter_2\\MDS_Chapter_2\\sydney.csv\")\n",
    "print(syd_data)"
   ]
  },
  {
   "cell_type": "code",
   "execution_count": 76,
   "metadata": {
    "collapsed": true
   },
   "outputs": [],
   "source": [
    "resp_binary= {'TRAIN':1,'CAR':0}\n",
    "y = syd_data['choice'].map(resp_binary)\n",
    "cartime = syd_data['cartime']\n",
    "carcost = syd_data['carcost']\n",
    "traintime = syd_data['traintime']\n",
    "traincost = syd_data['traincost']\n",
    "intercept= np.array([1]*len(y))\n",
    "#Leaving teh first column as 1s for B0\n",
    "x=np.array([intercept,cartime,carcost,traintime,traincost]).T\n",
    "                     "
   ]
  },
  {
   "cell_type": "code",
   "execution_count": 81,
   "metadata": {},
   "outputs": [],
   "source": [
    "sns.boxplot(x=syd_data['choice'],y=cartime);\n",
    "sns.boxplot(x=syd_data['choice'],y=carcost);\n",
    "sns.boxplot(x=syd_data['choice'],y=traintime);\n",
    "sns.boxplot(x=syd_data['choice'],y=traincost);\n"
   ]
  },
  {
   "cell_type": "code",
   "execution_count": 83,
   "metadata": {},
   "outputs": [
    {
     "ename": "TypeError",
     "evalue": "cannot perform reduce with flexible type",
     "output_type": "error",
     "traceback": [
      "\u001b[1;31m---------------------------------------------------------------------------\u001b[0m",
      "\u001b[1;31mTypeError\u001b[0m                                 Traceback (most recent call last)",
      "\u001b[1;32m<ipython-input-83-a272f6b6d4fa>\u001b[0m in \u001b[0;36m<module>\u001b[1;34m()\u001b[0m\n\u001b[0;32m      1\u001b[0m \u001b[0mfig\u001b[0m\u001b[1;33m,\u001b[0m \u001b[0maxs\u001b[0m \u001b[1;33m=\u001b[0m \u001b[0mplt\u001b[0m\u001b[1;33m.\u001b[0m\u001b[0msubplots\u001b[0m\u001b[1;33m(\u001b[0m\u001b[1;36m2\u001b[0m\u001b[1;33m,\u001b[0m\u001b[1;36m2\u001b[0m\u001b[1;33m)\u001b[0m\u001b[1;33m\u001b[0m\u001b[0m\n\u001b[0;32m      2\u001b[0m \u001b[1;31m#axs[0,0].scatter(cartime,carcost)\u001b[0m\u001b[1;33m\u001b[0m\u001b[1;33m\u001b[0m\u001b[0m\n\u001b[1;32m----> 3\u001b[1;33m \u001b[0maxs\u001b[0m\u001b[1;33m[\u001b[0m\u001b[1;36m0\u001b[0m\u001b[1;33m,\u001b[0m\u001b[1;36m0\u001b[0m\u001b[1;33m]\u001b[0m\u001b[1;33m.\u001b[0m\u001b[0mboxplot\u001b[0m\u001b[1;33m(\u001b[0m\u001b[0msyd_data\u001b[0m\u001b[1;33m[\u001b[0m\u001b[1;34m'choice'\u001b[0m\u001b[1;33m]\u001b[0m\u001b[1;33m,\u001b[0m\u001b[0mcartime\u001b[0m\u001b[1;33m)\u001b[0m\u001b[1;33m\u001b[0m\u001b[0m\n\u001b[0m\u001b[0;32m      4\u001b[0m \u001b[0maxs\u001b[0m\u001b[1;33m[\u001b[0m\u001b[1;36m0\u001b[0m\u001b[1;33m,\u001b[0m\u001b[1;36m1\u001b[0m\u001b[1;33m]\u001b[0m\u001b[1;33m.\u001b[0m\u001b[0mboxplot\u001b[0m\u001b[1;33m(\u001b[0m\u001b[0msyd_data\u001b[0m\u001b[1;33m[\u001b[0m\u001b[1;34m'choice'\u001b[0m\u001b[1;33m]\u001b[0m\u001b[1;33m,\u001b[0m\u001b[0mcarcost\u001b[0m\u001b[1;33m)\u001b[0m\u001b[1;33m\u001b[0m\u001b[0m\n\u001b[0;32m      5\u001b[0m \u001b[0maxs\u001b[0m\u001b[1;33m[\u001b[0m\u001b[1;36m1\u001b[0m\u001b[1;33m,\u001b[0m\u001b[1;36m0\u001b[0m\u001b[1;33m]\u001b[0m\u001b[1;33m.\u001b[0m\u001b[0mboxplot\u001b[0m\u001b[1;33m(\u001b[0m\u001b[0msyd_data\u001b[0m\u001b[1;33m[\u001b[0m\u001b[1;34m'choice'\u001b[0m\u001b[1;33m]\u001b[0m\u001b[1;33m,\u001b[0m\u001b[0mtraintime\u001b[0m\u001b[1;33m)\u001b[0m\u001b[1;33m\u001b[0m\u001b[0m\n",
      "\u001b[1;32mD:\\AnacondaPython\\Anaconda3\\lib\\site-packages\\matplotlib\\__init__.py\u001b[0m in \u001b[0;36minner\u001b[1;34m(ax, *args, **kwargs)\u001b[0m\n\u001b[0;32m   1708\u001b[0m                     warnings.warn(msg % (label_namer, func.__name__),\n\u001b[0;32m   1709\u001b[0m                                   RuntimeWarning, stacklevel=2)\n\u001b[1;32m-> 1710\u001b[1;33m             \u001b[1;32mreturn\u001b[0m \u001b[0mfunc\u001b[0m\u001b[1;33m(\u001b[0m\u001b[0max\u001b[0m\u001b[1;33m,\u001b[0m \u001b[1;33m*\u001b[0m\u001b[0margs\u001b[0m\u001b[1;33m,\u001b[0m \u001b[1;33m**\u001b[0m\u001b[0mkwargs\u001b[0m\u001b[1;33m)\u001b[0m\u001b[1;33m\u001b[0m\u001b[0m\n\u001b[0m\u001b[0;32m   1711\u001b[0m         \u001b[0mpre_doc\u001b[0m \u001b[1;33m=\u001b[0m \u001b[0minner\u001b[0m\u001b[1;33m.\u001b[0m\u001b[0m__doc__\u001b[0m\u001b[1;33m\u001b[0m\u001b[0m\n\u001b[0;32m   1712\u001b[0m         \u001b[1;32mif\u001b[0m \u001b[0mpre_doc\u001b[0m \u001b[1;32mis\u001b[0m \u001b[1;32mNone\u001b[0m\u001b[1;33m:\u001b[0m\u001b[1;33m\u001b[0m\u001b[0m\n",
      "\u001b[1;32mD:\\AnacondaPython\\Anaconda3\\lib\\site-packages\\matplotlib\\axes\\_axes.py\u001b[0m in \u001b[0;36mboxplot\u001b[1;34m(self, x, notch, sym, vert, whis, positions, widths, patch_artist, bootstrap, usermedians, conf_intervals, meanline, showmeans, showcaps, showbox, showfliers, boxprops, labels, flierprops, medianprops, meanprops, capprops, whiskerprops, manage_xticks, autorange, zorder)\u001b[0m\n\u001b[0;32m   3330\u001b[0m \u001b[1;33m\u001b[0m\u001b[0m\n\u001b[0;32m   3331\u001b[0m         bxpstats = cbook.boxplot_stats(x, whis=whis, bootstrap=bootstrap,\n\u001b[1;32m-> 3332\u001b[1;33m                                        labels=labels, autorange=autorange)\n\u001b[0m\u001b[0;32m   3333\u001b[0m         \u001b[1;32mif\u001b[0m \u001b[0mnotch\u001b[0m \u001b[1;32mis\u001b[0m \u001b[1;32mNone\u001b[0m\u001b[1;33m:\u001b[0m\u001b[1;33m\u001b[0m\u001b[0m\n\u001b[0;32m   3334\u001b[0m             \u001b[0mnotch\u001b[0m \u001b[1;33m=\u001b[0m \u001b[0mrcParams\u001b[0m\u001b[1;33m[\u001b[0m\u001b[1;34m'boxplot.notch'\u001b[0m\u001b[1;33m]\u001b[0m\u001b[1;33m\u001b[0m\u001b[0m\n",
      "\u001b[1;32mD:\\AnacondaPython\\Anaconda3\\lib\\site-packages\\matplotlib\\cbook\\__init__.py\u001b[0m in \u001b[0;36mboxplot_stats\u001b[1;34m(X, whis, bootstrap, labels, autorange)\u001b[0m\n\u001b[0;32m   1823\u001b[0m \u001b[1;33m\u001b[0m\u001b[0m\n\u001b[0;32m   1824\u001b[0m         \u001b[1;31m# arithmetic mean\u001b[0m\u001b[1;33m\u001b[0m\u001b[1;33m\u001b[0m\u001b[0m\n\u001b[1;32m-> 1825\u001b[1;33m         \u001b[0mstats\u001b[0m\u001b[1;33m[\u001b[0m\u001b[1;34m'mean'\u001b[0m\u001b[1;33m]\u001b[0m \u001b[1;33m=\u001b[0m \u001b[0mnp\u001b[0m\u001b[1;33m.\u001b[0m\u001b[0mmean\u001b[0m\u001b[1;33m(\u001b[0m\u001b[0mx\u001b[0m\u001b[1;33m)\u001b[0m\u001b[1;33m\u001b[0m\u001b[0m\n\u001b[0m\u001b[0;32m   1826\u001b[0m \u001b[1;33m\u001b[0m\u001b[0m\n\u001b[0;32m   1827\u001b[0m         \u001b[1;31m# medians and quartiles\u001b[0m\u001b[1;33m\u001b[0m\u001b[1;33m\u001b[0m\u001b[0m\n",
      "\u001b[1;32mD:\\AnacondaPython\\Anaconda3\\lib\\site-packages\\numpy\\core\\fromnumeric.py\u001b[0m in \u001b[0;36mmean\u001b[1;34m(a, axis, dtype, out, keepdims)\u001b[0m\n\u001b[0;32m   2907\u001b[0m \u001b[1;33m\u001b[0m\u001b[0m\n\u001b[0;32m   2908\u001b[0m     return _methods._mean(a, axis=axis, dtype=dtype,\n\u001b[1;32m-> 2909\u001b[1;33m                           out=out, **kwargs)\n\u001b[0m\u001b[0;32m   2910\u001b[0m \u001b[1;33m\u001b[0m\u001b[0m\n\u001b[0;32m   2911\u001b[0m \u001b[1;33m\u001b[0m\u001b[0m\n",
      "\u001b[1;32mD:\\AnacondaPython\\Anaconda3\\lib\\site-packages\\numpy\\core\\_methods.py\u001b[0m in \u001b[0;36m_mean\u001b[1;34m(a, axis, dtype, out, keepdims)\u001b[0m\n\u001b[0;32m     68\u001b[0m             \u001b[0mis_float16_result\u001b[0m \u001b[1;33m=\u001b[0m \u001b[1;32mTrue\u001b[0m\u001b[1;33m\u001b[0m\u001b[0m\n\u001b[0;32m     69\u001b[0m \u001b[1;33m\u001b[0m\u001b[0m\n\u001b[1;32m---> 70\u001b[1;33m     \u001b[0mret\u001b[0m \u001b[1;33m=\u001b[0m \u001b[0mumr_sum\u001b[0m\u001b[1;33m(\u001b[0m\u001b[0marr\u001b[0m\u001b[1;33m,\u001b[0m \u001b[0maxis\u001b[0m\u001b[1;33m,\u001b[0m \u001b[0mdtype\u001b[0m\u001b[1;33m,\u001b[0m \u001b[0mout\u001b[0m\u001b[1;33m,\u001b[0m \u001b[0mkeepdims\u001b[0m\u001b[1;33m)\u001b[0m\u001b[1;33m\u001b[0m\u001b[0m\n\u001b[0m\u001b[0;32m     71\u001b[0m     \u001b[1;32mif\u001b[0m \u001b[0misinstance\u001b[0m\u001b[1;33m(\u001b[0m\u001b[0mret\u001b[0m\u001b[1;33m,\u001b[0m \u001b[0mmu\u001b[0m\u001b[1;33m.\u001b[0m\u001b[0mndarray\u001b[0m\u001b[1;33m)\u001b[0m\u001b[1;33m:\u001b[0m\u001b[1;33m\u001b[0m\u001b[0m\n\u001b[0;32m     72\u001b[0m         ret = um.true_divide(\n",
      "\u001b[1;31mTypeError\u001b[0m: cannot perform reduce with flexible type"
     ]
    }
   ],
   "source": [
    "fig, axs = plt.subplots(2,2)\n",
    "#axs[0,0].scatter(cartime,carcost)\n",
    "axs[0,0].boxplot(syd_data['choice'],cartime)\n",
    "axs[0,1].boxplot(syd_data['choice'],carcost)\n",
    "axs[1,0].boxplot(syd_data['choice'],traintime)\n",
    "axs[1,1].boxplot(syd_data['choice'],traincost)\n",
    "plt.show()"
   ]
  },
  {
   "cell_type": "code",
   "execution_count": 45,
   "metadata": {},
   "outputs": [
    {
     "name": "stdout",
     "output_type": "stream",
     "text": [
      "                 Generalized Linear Model Regression Results                  \n",
      "==============================================================================\n",
      "Dep. Variable:                 choice   No. Observations:                  333\n",
      "Model:                            GLM   Df Residuals:                      328\n",
      "Model Family:                Binomial   Df Model:                            4\n",
      "Link Function:                  logit   Scale:                             1.0\n",
      "Method:                          IRLS   Log-Likelihood:                -136.32\n",
      "Date:                Thu, 01 Mar 2018   Deviance:                       272.63\n",
      "Time:                        17:26:02   Pearson chi2:                     326.\n",
      "No. Iterations:                     6                                         \n",
      "==============================================================================\n",
      "                 coef    std err          z      P>|z|      [0.025      0.975]\n",
      "------------------------------------------------------------------------------\n",
      "const         -1.4440      0.585     -2.468      0.014      -2.591      -0.297\n",
      "x1             0.0565      0.011      5.179      0.000       0.035       0.078\n",
      "x2             0.0298      0.007      4.283      0.000       0.016       0.043\n",
      "x3             0.0149      0.009      1.573      0.116      -0.004       0.034\n",
      "x4            -0.1113      0.017     -6.736      0.000      -0.144      -0.079\n",
      "==============================================================================\n"
     ]
    }
   ],
   "source": [
    "#logistic regression:\n",
    "logreg=sm.GLM(y,x,family=sm.families.Binomial())\n",
    "syd_fit=logreg.fit()\n",
    "print(syd_fit.summary())\n",
    "syd_data['train_prob']= syd_fit.predict(linear=False)"
   ]
  },
  {
   "cell_type": "code",
   "execution_count": 46,
   "metadata": {},
   "outputs": [],
   "source": [
    "#function to convert probability to choice prediction because we coded it as 1 and 0 :\n",
    "def prob2resp(response_prob,cutoff):\n",
    "    if(response_prob>cutoff):\n",
    "        return('TRAIN')\n",
    "    else:\n",
    "        return('CAR')\n",
    "    "
   ]
  },
  {
   "cell_type": "code",
   "execution_count": 47,
   "metadata": {},
   "outputs": [
    {
     "name": "stdout",
     "output_type": "stream",
     "text": [
      "choice       CAR  TRAIN\n",
      "choice_pred            \n",
      "CAR          155     30\n",
      "TRAIN         28    120\n"
     ]
    }
   ],
   "source": [
    "syd_data['choice_pred']= syd_data['train_prob'].apply(lambda d: prob2resp(d,cutoff=0.5))\n",
    "conmat=pd.crosstab(syd_data['choice_pred'],syd_data['choice'])\n",
    "print(conmat)"
   ]
  },
  {
   "cell_type": "code",
   "execution_count": 48,
   "metadata": {},
   "outputs": [
    {
     "name": "stdout",
     "output_type": "stream",
     "text": [
      "\n",
      " Percentage correctly predicted: 0.826 \n",
      "\n"
     ]
    }
   ],
   "source": [
    "a=float(conmat.iloc[0,0])\n",
    "b=float(conmat.iloc[0,1])\n",
    "c=float(conmat.iloc[1,0])\n",
    "d=float(conmat.iloc[1,1])\n",
    "n=a+b+c+d\n",
    "predictive_accuracy=(a+d)/n\n",
    "print('\\n Percentage correctly predicted:',round(predictive_accuracy,3),\"\\n\")"
   ]
  },
  {
   "cell_type": "code",
   "execution_count": 50,
   "metadata": {},
   "outputs": [
    {
     "data": {
      "image/png": "[encoded data removed]",
      "text/plain": [
       "<matplotlib.figure.Figure at 0x484b249358>"
      ]
     },
     "metadata": {},
     "output_type": "display_data"
    }
   ],
   "source": [
    "\n",
    "fix, axs = plt.subplots(1,2,sharey=True)\n",
    "axs[0].hist(syd_data['choice'])\n",
    "axs[1].hist(syd_data['choice_pred'])\n",
    "plt.show()"
   ]
  },
  {
   "cell_type": "code",
   "execution_count": 51,
   "metadata": {},
   "outputs": [
    {
     "name": "stdout",
     "output_type": "stream",
     "text": [
      "     cartime  carcost  traintime  traincost choice  train_prob choice_pred\n",
      "0         70       50         64         39  TRAIN    0.649733       TRAIN\n",
      "1         50      230         60         32  TRAIN    0.996237       TRAIN\n",
      "2         50       70         58         40    CAR    0.470977         CAR\n",
      "3         60      108         93         62    CAR    0.414966         CAR\n",
      "4         70       60         68         26  TRAIN    0.918547       TRAIN\n",
      "5         20       32         72         65    CAR    0.003994         CAR\n",
      "6         40       30         60         37  TRAIN    0.180750         CAR\n",
      "7         15        8         22         20    CAR    0.094888         CAR\n",
      "8         60       60         83         31  TRAIN    0.821274       TRAIN\n",
      "9         29       20         40         17    CAR    0.376657         CAR\n",
      "10        36       30         65         70    CAR    0.004795         CAR\n",
      "11        50       30        125         60    CAR    0.073352         CAR\n",
      "12        63       35        145         60    CAR    0.205193         CAR\n",
      "13        20       30         48         25    CAR    0.184688         CAR\n",
      "14        60       40         85         45    CAR    0.354317         CAR\n",
      "15        30       20         60         35  TRAIN    0.104128         CAR\n",
      "16        47       60         79         26  TRAIN    0.783674       TRAIN\n",
      "17        60       72         50         26  TRAIN    0.875151       TRAIN\n",
      "18        55       40         43         26  TRAIN    0.646886       TRAIN\n",
      "19        35       80         51         29  TRAIN    0.611685       TRAIN\n",
      "20        15       30         25         20  TRAIN    0.174498         CAR\n",
      "21        55       50         70         27  TRAIN    0.767685       TRAIN\n",
      "22        50       50         65         26  TRAIN    0.721006       TRAIN\n",
      "23        39       25         50         55    CAR    0.020443         CAR\n",
      "24        17       20         78         35    CAR    0.067973         CAR\n",
      "25        35       56         87         40    CAR    0.279084         CAR\n",
      "26        65       55         90         26  TRAIN    0.910456       TRAIN\n",
      "27        38       40         74         23  TRAIN    0.608519       TRAIN\n",
      "28        15       15         40         34    CAR    0.034355         CAR\n",
      "29        65      130         74         30  TRAIN    0.979639       TRAIN\n",
      "..       ...      ...        ...        ...    ...         ...         ...\n",
      "303       65       60         65         31  TRAIN    0.823322       TRAIN\n",
      "304       40       50         91         71    CAR    0.014260         CAR\n",
      "305       50       64         70         53    CAR    0.173206         CAR\n",
      "306       75      154         60         34  TRAIN    0.989022       TRAIN\n",
      "307       30       48         60         47    CAR    0.065859         CAR\n",
      "308       60      180         64         33  TRAIN    0.990049       TRAIN\n",
      "309       60       80         75         36  TRAIN    0.809389       TRAIN\n",
      "310       68       30         65         26  TRAIN    0.797337       TRAIN\n",
      "311       65       88         76         41  TRAIN    0.806241       TRAIN\n",
      "312       65       60         73         26  TRAIN    0.901573       TRAIN\n",
      "313       37       40         57         26  TRAIN    0.449449         CAR\n",
      "314       45       35         65         35  TRAIN    0.313813         CAR\n",
      "315       65      137         73         33  TRAIN    0.976652       TRAIN\n",
      "316       60      145         54         36  TRAIN    0.955745       TRAIN\n",
      "317       55      140         74         36  TRAIN    0.949748       TRAIN\n",
      "318       60      100         50         36  TRAIN    0.841569       TRAIN\n",
      "319       65       50        100         50    CAR    0.412931         CAR\n",
      "320       50      140         85         63    CAR    0.454075         CAR\n",
      "321       75       72         63         30  TRAIN    0.927146       TRAIN\n",
      "322       35       30         48         29  TRAIN    0.253038         CAR\n",
      "323       15       24         28         25    CAR    0.095795         CAR\n",
      "324       53       56         42         26  TRAIN    0.722105       TRAIN\n",
      "325       25       60         65         31    CAR    0.327117         CAR\n",
      "326       45       54         67         33    CAR    0.509268       TRAIN\n",
      "327       25       28         48         39    CAR    0.056245         CAR\n",
      "328       27       50         52         40    CAR    0.108880         CAR\n",
      "329       25       25         63         80    CAR    0.000710         CAR\n",
      "330       50       50         80         50    CAR    0.182752         CAR\n",
      "331       25       25         39         20    CAR    0.283052         CAR\n",
      "332       35       64         95         40    CAR    0.356422         CAR\n",
      "\n",
      "[333 rows x 7 columns]\n"
     ]
    }
   ],
   "source": [
    "print(syd_data)"
   ]
  },
  {
   "cell_type": "code",
   "execution_count": null,
   "metadata": {
    "collapsed": true
   },
   "outputs": [],
   "source": []
  }
 ],
 "metadata": {
  "kernelspec": {
   "display_name": "Python 3",
   "language": "python",
   "name": "python3"
  },
  "language_info": {
   "codemirror_mode": {
    "name": "ipython",
    "version": 3
   },
   "file_extension": ".py",
   "mimetype": "text/x-python",
   "name": "python",
   "nbconvert_exporter": "python",
   "pygments_lexer": "ipython3",
   "version": "3.6.3"
  }
 },
 "nbformat": 4,
 "nbformat_minor": 2
}
